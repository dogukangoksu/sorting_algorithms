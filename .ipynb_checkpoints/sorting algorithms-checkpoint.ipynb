{
 "cells": [
  {
   "cell_type": "code",
   "execution_count": 1,
   "metadata": {},
   "outputs": [],
   "source": [
    "import numpy as np\n",
    "import time"
   ]
  },
  {
   "cell_type": "markdown",
   "metadata": {},
   "source": [
    "# Bubble Sort"
   ]
  },
  {
   "cell_type": "code",
   "execution_count": 2,
   "metadata": {},
   "outputs": [],
   "source": [
    "def bubbleSort(arr):\n",
    "    n = len(arr)\n",
    "    for i in range(n):\n",
    "        for j in range (0, n-i-1):\n",
    "            if (arr[j]>arr[j+1]):\n",
    "                arr[j],arr[j+1] = arr[j+1],arr[j]\n",
    "    return arr"
   ]
  },
  {
   "cell_type": "code",
   "execution_count": 3,
   "metadata": {},
   "outputs": [
    {
     "name": "stdout",
     "output_type": "stream",
     "text": [
      "Time taken for sorting 16 integers with Bubble Sort: 0.0\n",
      "Time taken for sorting 32 integers with Bubble Sort: 0.0\n",
      "Time taken for sorting 64 integers with Bubble Sort: 0.00099945068359375\n",
      "Time taken for sorting 128 integers with Bubble Sort: 0.0049855709075927734\n",
      "Time taken for sorting 256 integers with Bubble Sort: 0.01797938346862793\n",
      "Time taken for sorting 512 integers with Bubble Sort: 0.06781697273254395\n",
      "Time taken for sorting 1024 integers with Bubble Sort: 0.4193720817565918\n",
      "Time taken for sorting 2048 integers with Bubble Sort: 1.1206457614898682\n",
      "Time taken for sorting 4096 integers with Bubble Sort: 4.833340883255005\n",
      "Time taken for sorting 8192 integers with Bubble Sort: 23.66337561607361\n",
      "Time taken for sorting 16384 integers with Bubble Sort: 84.21791124343872\n"
     ]
    }
   ],
   "source": [
    "numbers = [16,32,64,128,256,512,1024,2048,4096,8192,16384]\n",
    "for number in numbers:\n",
    "    arr = np.random.randint(1,5000,number)\n",
    "    start = time.time()\n",
    "    bubbleSort(arr)\n",
    "    end = time.time()\n",
    "    print(\"Time taken for sorting\", number, \"integers with Bubble Sort:\",end - start)"
   ]
  },
  {
   "cell_type": "markdown",
   "metadata": {},
   "source": [
    "# Quick Sort"
   ]
  },
  {
   "cell_type": "code",
   "execution_count": 4,
   "metadata": {},
   "outputs": [],
   "source": [
    "def partition(arr, start, end):\n",
    "    pivot = arr[start]\n",
    "    low = start +1\n",
    "    high = end\n",
    "    \n",
    "    while True:\n",
    "        while (low <= high) and (arr[high] >= pivot):\n",
    "            high = high -1\n",
    "        while (low <= high) and (arr[low] <= pivot):\n",
    "            low = low + 1\n",
    "        if low <= high:\n",
    "            arr[low], arr[high] = arr[high], arr[low]\n",
    "        else:\n",
    "            break\n",
    "            \n",
    "    arr[start], arr[high] = arr[high], arr[start]\n",
    "    \n",
    "    return high"
   ]
  },
  {
   "cell_type": "code",
   "execution_count": 5,
   "metadata": {},
   "outputs": [],
   "source": [
    "def quickSort(arr, start, end):\n",
    "    if start >= end:\n",
    "        return\n",
    "    \n",
    "    p = partition(arr, start, end)\n",
    "    quickSort(arr, start, p-1)\n",
    "    quickSort(arr, p+1, end)\n",
    "    \n",
    "    return arr"
   ]
  },
  {
   "cell_type": "code",
   "execution_count": 6,
   "metadata": {},
   "outputs": [
    {
     "name": "stdout",
     "output_type": "stream",
     "text": [
      "Time taken for sorting 1000 integers with Quick Sort: 0.006489753723144531\n",
      "Time taken for sorting 2000 integers with Quick Sort: 0.01296377182006836\n",
      "Time taken for sorting 4000 integers with Quick Sort: 0.022938251495361328\n",
      "Time taken for sorting 8000 integers with Quick Sort: 0.05285906791687012\n",
      "Time taken for sorting 16000 integers with Quick Sort: 0.10841679573059082\n",
      "Time taken for sorting 32000 integers with Quick Sort: 0.25785374641418457\n",
      "Time taken for sorting 64000 integers with Quick Sort: 0.574427604675293\n",
      "Time taken for sorting 128000 integers with Quick Sort: 1.2318243980407715\n",
      "Time taken for sorting 256000 integers with Quick Sort: 3.430210590362549\n",
      "Time taken for sorting 512000 integers with Quick Sort: 9.0923912525177\n"
     ]
    }
   ],
   "source": [
    "numbers = [1000,2000,4000,8000,16000,32000,64000,128000,256000,512000]\n",
    "for number in numbers:\n",
    "    arr = np.random.randint(1,5000,number)\n",
    "    start = time.time()\n",
    "    quickSort(arr,0,len(arr)-1)\n",
    "    end = time.time()\n",
    "    print(\"Time taken for sorting\", number, \"integers with Quick Sort:\",end - start)"
   ]
  },
  {
   "cell_type": "markdown",
   "metadata": {},
   "source": [
    "# Insertion  Sort"
   ]
  },
  {
   "cell_type": "code",
   "execution_count": 7,
   "metadata": {},
   "outputs": [],
   "source": [
    "def insertionSort(arr):\n",
    "    for i in range(1, len(arr)):\n",
    "        key = arr[i]\n",
    "        j = i-1\n",
    "        \n",
    "        while j>=0 and key < arr[j]:\n",
    "            arr[j+1] = arr[j]\n",
    "            j = j-1\n",
    "        arr[j+1] = key"
   ]
  },
  {
   "cell_type": "code",
   "execution_count": 8,
   "metadata": {},
   "outputs": [
    {
     "name": "stdout",
     "output_type": "stream",
     "text": [
      "Time taken for sorting 16 integers with Insertion Sort: 0.0\n",
      "Time taken for sorting 32 integers with Insertion Sort: 0.0\n",
      "Time taken for sorting 64 integers with Insertion Sort: 0.0\n",
      "Time taken for sorting 128 integers with Insertion Sort: 0.001995563507080078\n",
      "Time taken for sorting 256 integers with Insertion Sort: 0.005985260009765625\n",
      "Time taken for sorting 512 integers with Insertion Sort: 0.03490638732910156\n",
      "Time taken for sorting 1024 integers with Insertion Sort: 0.12169003486633301\n",
      "Time taken for sorting 2048 integers with Insertion Sort: 0.48132753372192383\n",
      "Time taken for sorting 4096 integers with Insertion Sort: 1.9625797271728516\n",
      "Time taken for sorting 8192 integers with Insertion Sort: 8.430161714553833\n",
      "Time taken for sorting 16384 integers with Insertion Sort: 31.7481849193573\n"
     ]
    }
   ],
   "source": [
    "numbers = [16,32,64,128,256,512,1024,2048,4096,8192,16384]\n",
    "for number in numbers:\n",
    "    arr = np.random.randint(1,5000,number)\n",
    "    start = time.time()\n",
    "    insertionSort(arr)\n",
    "    end = time.time()\n",
    "    print(\"Time taken for sorting\", number, \"integers with Insertion Sort:\",end - start)"
   ]
  }
 ],
 "metadata": {
  "kernelspec": {
   "display_name": "Python 3",
   "language": "python",
   "name": "python3"
  },
  "language_info": {
   "codemirror_mode": {
    "name": "ipython",
    "version": 3
   },
   "file_extension": ".py",
   "mimetype": "text/x-python",
   "name": "python",
   "nbconvert_exporter": "python",
   "pygments_lexer": "ipython3",
   "version": "3.7.3"
  }
 },
 "nbformat": 4,
 "nbformat_minor": 2
}

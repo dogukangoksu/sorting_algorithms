{
 "cells": [
  {
   "cell_type": "code",
   "execution_count": 13,
   "metadata": {},
   "outputs": [],
   "source": [
    "import numpy as np\n",
    "import time"
   ]
  },
  {
   "cell_type": "markdown",
   "metadata": {},
   "source": [
    "# Bubble Sort"
   ]
  },
  {
   "cell_type": "code",
   "execution_count": 2,
   "metadata": {},
   "outputs": [],
   "source": [
    "def bubbleSort(arr):\n",
    "    n = len(arr)\n",
    "    for i in range(n):\n",
    "        for j in range (0, n-i-1):\n",
    "            if (arr[j]>arr[j+1]):\n",
    "                arr[j],arr[j+1] = arr[j+1],arr[j]\n",
    "    return arr"
   ]
  },
  {
   "cell_type": "code",
   "execution_count": 55,
   "metadata": {},
   "outputs": [
    {
     "name": "stdout",
     "output_type": "stream",
     "text": [
      "Time taken for sorting 16 integers with Bubble Sort: 0.0\n",
      "Time taken for sorting 32 integers with Bubble Sort: 0.0\n",
      "Time taken for sorting 64 integers with Bubble Sort: 0.0009970664978027344\n",
      "Time taken for sorting 128 integers with Bubble Sort: 0.009975194931030273\n",
      "Time taken for sorting 256 integers with Bubble Sort: 0.04587817192077637\n",
      "Time taken for sorting 512 integers with Bubble Sort: 0.1625356674194336\n",
      "Time taken for sorting 1024 integers with Bubble Sort: 0.6682100296020508\n",
      "Time taken for sorting 2048 integers with Bubble Sort: 3.329930305480957\n",
      "Time taken for sorting 4096 integers with Bubble Sort: 11.420990943908691\n",
      "Time taken for sorting 8192 integers with Bubble Sort: 42.999168395996094\n",
      "Time taken for sorting 16384 integers with Bubble Sort: 159.22881722450256\n"
     ]
    }
   ],
   "source": [
    "numbers = [16,32,64,128,256,512,1024,2048,4096,8192,16384]\n",
    "for number in numbers:\n",
    "    arr = np.random.randint(1,5000,number)\n",
    "    start = time.time()\n",
    "    bubbleSort(arr)\n",
    "    end = time.time()\n",
    "    print(\"Time taken for sorting\", number, \"integers with Bubble Sort:\",end - start)"
   ]
  },
  {
   "cell_type": "markdown",
   "metadata": {},
   "source": [
    "# Quick Sort"
   ]
  },
  {
   "cell_type": "code",
   "execution_count": 24,
   "metadata": {},
   "outputs": [],
   "source": [
    "def partition(arr, start, end):\n",
    "    pivot = arr[start]\n",
    "    low = start +1\n",
    "    high = end\n",
    "    \n",
    "    while True:\n",
    "        while (low <= high) and (arr[high] >= pivot):\n",
    "            high = high -1\n",
    "        while (low <= high) and (arr[low] <= pivot):\n",
    "            low = low + 1\n",
    "        if low <= high:\n",
    "            arr[low], arr[high] = arr[high], arr[low]\n",
    "        else:\n",
    "            break\n",
    "            \n",
    "    arr[start], arr[high] = arr[high], arr[start]\n",
    "    \n",
    "    return high"
   ]
  },
  {
   "cell_type": "code",
   "execution_count": 42,
   "metadata": {},
   "outputs": [],
   "source": [
    "def quickSort(arr, start, end):\n",
    "    if start >= end:\n",
    "        return\n",
    "    \n",
    "    p = partition(arr, start, end)\n",
    "    quickSort(arr, start, p-1)\n",
    "    quickSort(arr, p+1, end)\n",
    "    \n",
    "    return arr"
   ]
  },
  {
   "cell_type": "code",
   "execution_count": 50,
   "metadata": {},
   "outputs": [
    {
     "name": "stdout",
     "output_type": "stream",
     "text": [
      "Time taken for sorting 1000 integers with Quick Sort: 0.016947269439697266\n",
      "Time taken for sorting 2000 integers with Quick Sort: 0.027925491333007812\n",
      "Time taken for sorting 4000 integers with Quick Sort: 0.06326150894165039\n",
      "Time taken for sorting 8000 integers with Quick Sort: 0.09276819229125977\n",
      "Time taken for sorting 16000 integers with Quick Sort: 0.29472994804382324\n",
      "Time taken for sorting 32000 integers with Quick Sort: 0.5515263080596924\n",
      "Time taken for sorting 64000 integers with Quick Sort: 1.0471930503845215\n",
      "Time taken for sorting 128000 integers with Quick Sort: 2.9811220169067383\n",
      "Time taken for sorting 256000 integers with Quick Sort: 6.690382480621338\n",
      "Time taken for sorting 512000 integers with Quick Sort: 19.7477126121521\n"
     ]
    }
   ],
   "source": [
    "numbers = [1000,2000,4000,8000,16000,32000,64000,128000,256000,512000]\n",
    "for number in numbers:\n",
    "    arr = np.random.randint(1,5000,number)\n",
    "    start = time.time()\n",
    "    quickSort(arr,0,len(arr)-1)\n",
    "    end = time.time()\n",
    "    print(\"Time taken for sorting\", number, \"integers with Quick Sort:\",end - start)"
   ]
  },
  {
   "cell_type": "markdown",
   "metadata": {},
   "source": [
    "# Insertion  Sort"
   ]
  },
  {
   "cell_type": "code",
   "execution_count": 51,
   "metadata": {},
   "outputs": [],
   "source": [
    "def insertionSort(arr):\n",
    "    for i in range(1, len(arr)):\n",
    "        key = arr[i]\n",
    "        j = i-1\n",
    "        \n",
    "        while j>=0 and key < arr[j]:\n",
    "            arr[j+1] = arr[j]\n",
    "            j = j-1\n",
    "        arr[j+1] = key"
   ]
  },
  {
   "cell_type": "code",
   "execution_count": 57,
   "metadata": {},
   "outputs": [
    {
     "name": "stdout",
     "output_type": "stream",
     "text": [
      "Time taken for sorting 16 integers with Insertion Sort: 0.0\n",
      "Time taken for sorting 32 integers with Insertion Sort: 0.0\n",
      "Time taken for sorting 64 integers with Insertion Sort: 0.0009980201721191406\n",
      "Time taken for sorting 128 integers with Insertion Sort: 0.003987789154052734\n",
      "Time taken for sorting 256 integers with Insertion Sort: 0.015956401824951172\n",
      "Time taken for sorting 512 integers with Insertion Sort: 0.055841684341430664\n",
      "Time taken for sorting 1024 integers with Insertion Sort: 0.18848705291748047\n",
      "Time taken for sorting 2048 integers with Insertion Sort: 0.7155368328094482\n",
      "Time taken for sorting 4096 integers with Insertion Sort: 3.48569393157959\n",
      "Time taken for sorting 8192 integers with Insertion Sort: 12.195385694503784\n",
      "Time taken for sorting 16384 integers with Insertion Sort: 52.84663677215576\n"
     ]
    }
   ],
   "source": [
    "numbers = [16,32,64,128,256,512,1024,2048,4096,8192,16384]\n",
    "for number in numbers:\n",
    "    arr = np.random.randint(1,5000,number)\n",
    "    start = time.time()\n",
    "    insertionSort(arr)\n",
    "    end = time.time()\n",
    "    print(\"Time taken for sorting\", number, \"integers with Insertion Sort:\",end - start)"
   ]
  }
 ],
 "metadata": {
  "kernelspec": {
   "display_name": "Python 3",
   "language": "python",
   "name": "python3"
  },
  "language_info": {
   "codemirror_mode": {
    "name": "ipython",
    "version": 3
   },
   "file_extension": ".py",
   "mimetype": "text/x-python",
   "name": "python",
   "nbconvert_exporter": "python",
   "pygments_lexer": "ipython3",
   "version": "3.7.3"
  }
 },
 "nbformat": 4,
 "nbformat_minor": 2
}
